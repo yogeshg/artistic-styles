{
 "cells": [
  {
   "cell_type": "code",
   "execution_count": 1,
   "metadata": {
    "collapsed": false
   },
   "outputs": [
    {
     "name": "stderr",
     "output_type": "stream",
     "text": [
      "WARNING (theano.sandbox.cuda): CUDA is installed, but device gpu is not available  (error: Unable to get the number of gpus available: no CUDA-capable device is detected)\n",
      "WARNING:theano.sandbox.cuda:CUDA is installed, but device gpu is not available  (error: Unable to get the number of gpus available: no CUDA-capable device is detected)\n"
     ]
    }
   ],
   "source": [
    "import theano\n",
    "import theano.tensor as T\n",
    "import numpy as np"
   ]
  },
  {
   "cell_type": "code",
   "execution_count": 2,
   "metadata": {
    "collapsed": true
   },
   "outputs": [],
   "source": [
    "DIMENSIONS = 5"
   ]
  },
  {
   "cell_type": "code",
   "execution_count": 3,
   "metadata": {
    "collapsed": false
   },
   "outputs": [],
   "source": [
    "v = theano.shared( np.empty(DIMENSIONS, dtype=np.float32), name=\"v\")\n",
    "X = T.fmatrix(name='X')"
   ]
  },
  {
   "cell_type": "code",
   "execution_count": 4,
   "metadata": {
    "collapsed": false
   },
   "outputs": [
    {
     "data": {
      "text/plain": [
       "'(X \\\\dot v)'"
      ]
     },
     "execution_count": 4,
     "metadata": {},
     "output_type": "execute_result"
    }
   ],
   "source": [
    "X_dot_v = T.dot(X,v)\n",
    "theano.pp(X_dot_v)"
   ]
  },
  {
   "cell_type": "code",
   "execution_count": 5,
   "metadata": {
    "collapsed": false
   },
   "outputs": [
    {
     "data": {
      "text/plain": [
       "'((X \\\\dot v) \\\\dot (X \\\\dot v))'"
      ]
     },
     "execution_count": 5,
     "metadata": {},
     "output_type": "execute_result"
    }
   ],
   "source": [
    "objectiveFunction = T.dot(X_dot_v.T, X_dot_v)\n",
    "theano.pp(objectiveFunction)"
   ]
  },
  {
   "cell_type": "code",
   "execution_count": 6,
   "metadata": {
    "collapsed": false
   },
   "outputs": [
    {
     "data": {
      "text/plain": [
       "'(X.T \\\\dot ((fill(((X \\\\dot v) \\\\dot (X \\\\dot v)), TensorConstant{1.0}) * (X \\\\dot v)) + (fill(((X \\\\dot v) \\\\dot (X \\\\dot v)), TensorConstant{1.0}) * (X \\\\dot v))))'"
      ]
     },
     "execution_count": 6,
     "metadata": {},
     "output_type": "execute_result"
    }
   ],
   "source": [
    "grad_v = T.grad(objectiveFunction, v)\n",
    "theano.pp(grad_v)"
   ]
  },
  {
   "cell_type": "code",
   "execution_count": 7,
   "metadata": {
    "collapsed": true
   },
   "outputs": [],
   "source": [
    "eta = 0.5"
   ]
  },
  {
   "cell_type": "code",
   "execution_count": 8,
   "metadata": {
    "collapsed": false
   },
   "outputs": [
    {
     "name": "stdout",
     "output_type": "stream",
     "text": [
      "(v + (TensorConstant{0.5} * (X.T \\dot ((fill(((X \\dot v) \\dot (X \\dot v)), TensorConstant{1.0}) * (X \\dot v)) + (fill(((X \\dot v) \\dot (X \\dot v)), TensorConstant{1.0}) * (X \\dot v))))))\n",
      "((v + (TensorConstant{0.5} * (X.T \\dot ((fill(((X \\dot v) \\dot (X \\dot v)), TensorConstant{1.0}) * (X \\dot v)) + (fill(((X \\dot v) \\dot (X \\dot v)), TensorConstant{1.0}) * (X \\dot v)))))) / (Sum{acc_dtype=float64}((|(v + (TensorConstant{0.5} * (X.T \\dot ((fill(((X \\dot v) \\dot (X \\dot v)), TensorConstant{1.0}) * (X \\dot v)) + (fill(((X \\dot v) \\dot (X \\dot v)), TensorConstant{1.0}) * (X \\dot v))))))| ** TensorConstant{2})) ** TensorConstant{0.5}))\n"
     ]
    }
   ],
   "source": [
    "y = v + eta * grad_v\n",
    "updateFunction = y / y.norm(2)\n",
    "print theano.pp(y)\n",
    "print theano.pp(updateFunction)"
   ]
  },
  {
   "cell_type": "code",
   "execution_count": 9,
   "metadata": {
    "collapsed": false
   },
   "outputs": [],
   "source": [
    "train = theano.function(\n",
    "    inputs=[X],\n",
    "    outputs=updateFunction,\n",
    "    updates=((v, updateFunction),)\n",
    ")"
   ]
  },
  {
   "cell_type": "code",
   "execution_count": 10,
   "metadata": {
    "collapsed": false
   },
   "outputs": [],
   "source": [
    "def getFirstEigenValueAndVector(X_data, epsilon=1e-100, max_iteraions = 20):\n",
    "    v.set_value(np.random.rand(DIMENSIONS).astype('float32'))\n",
    "    print 'Getting eigen values for: X = \\n', X_data\n",
    "    # print 'Starting with a random vector\\n', v.get_value()\n",
    "    last_v_star = v.get_value()\n",
    "    for i in range(max_iteraions):\n",
    "        v_star = train(X_data)\n",
    "        rms = sum(v_star - last_v_star)**2\n",
    "        print 'rms difference: ', rms\n",
    "        last_v_star = v_star\n",
    "        if(rms < epsilon):\n",
    "            break\n",
    "    w_star = objectiveFunction.eval({X:X_data})\n",
    "    print \"Eigen Value:\", w_star\n",
    "    print \"Eigen Vector:\\n\", v_star\n",
    "    return w_star, v_star"
   ]
  },
  {
   "cell_type": "code",
   "execution_count": 11,
   "metadata": {
    "collapsed": false
   },
   "outputs": [],
   "source": [
    "# X_data = np.array([[ (i+1)*(j+1) for j in range(DIMENSIONS)] for i in range(DIMENSIONS)]).astype('float32')\n",
    "X_data = np.random.rand(DIMENSIONS,DIMENSIONS).astype('float32')\n",
    "epsilon = 1e-100\n",
    "max_iteraions = 20"
   ]
  },
  {
   "cell_type": "code",
   "execution_count": 12,
   "metadata": {
    "collapsed": false
   },
   "outputs": [
    {
     "name": "stdout",
     "output_type": "stream",
     "text": [
      "v\n",
      "Getting eigen values for: X = \n",
      "[[ 0.23975161  0.35725662  0.959858    0.38111109  0.04587001]\n",
      " [ 0.46347278  0.55025983  0.71960729  0.03448376  0.41214687]\n",
      " [ 0.33262357  0.3759295   0.01549499  0.89723474  0.16308531]\n",
      " [ 0.37765834  0.29537737  0.7302109   0.59562129  0.69434047]\n",
      " [ 0.32382259  0.87839311  0.22292301  0.44921654  0.20482525]]\n",
      "rms difference:  0.089348519542\n",
      "rms difference:  0.000722918760844\n",
      "rms difference:  2.48499743662e-05\n",
      "rms difference:  1.11510577572e-06\n",
      "rms difference:  5.56700365806e-08\n",
      "rms difference:  2.99721936159e-09\n",
      "rms difference:  1.71951342054e-10\n",
      "rms difference:  1.19513288155e-11\n",
      "rms difference:  6.47482067961e-13\n",
      "rms difference:  4.35207425653e-14\n",
      "rms difference:  1.42108547152e-14\n",
      "rms difference:  0.0\n",
      "Eigen Value: 4.86833953857\n",
      "Eigen Vector:\n",
      "[ 0.35099527  0.48652834  0.56604934  0.46010408  0.32861057]\n"
     ]
    }
   ],
   "source": [
    "print v\n",
    "# XTX = np.dot(X_data.T,X_data)\n",
    "w_star, v_star = getFirstEigenValueAndVector( X_data )"
   ]
  },
  {
   "cell_type": "code",
   "execution_count": 13,
   "metadata": {
    "collapsed": false
   },
   "outputs": [],
   "source": [
    "# v_star_mat = np.matrix([v_star]).T\n",
    "# XTX - w_star * np.dot(v_star_mat, v_star_mat.T)\n",
    "# getFirstEigenValueAndVector(XTX - w_star * np.dot(v_star_mat, v_star_mat.T))"
   ]
  },
  {
   "cell_type": "code",
   "execution_count": null,
   "metadata": {
    "collapsed": false
   },
   "outputs": [],
   "source": []
  },
  {
   "cell_type": "code",
   "execution_count": null,
   "metadata": {
    "collapsed": true
   },
   "outputs": [],
   "source": []
  },
  {
   "cell_type": "code",
   "execution_count": null,
   "metadata": {
    "collapsed": true
   },
   "outputs": [],
   "source": []
  },
  {
   "cell_type": "code",
   "execution_count": null,
   "metadata": {
    "collapsed": true
   },
   "outputs": [],
   "source": []
  },
  {
   "cell_type": "code",
   "execution_count": 14,
   "metadata": {
    "collapsed": false
   },
   "outputs": [
    {
     "name": "stdout",
     "output_type": "stream",
     "text": [
      "[[ 0.23975161  0.35725662  0.959858    0.38111109  0.04587001]\n",
      " [ 0.46347278  0.55025983  0.71960729  0.03448376  0.41214687]\n",
      " [ 0.33262357  0.3759295   0.01549499  0.89723474  0.16308531]\n",
      " [ 0.37765834  0.29537737  0.7302109   0.59562129  0.69434047]\n",
      " [ 0.32382259  0.87839311  0.22292301  0.44921654  0.20482525]]\n",
      "4.86834\n",
      "[-0.35099524 -0.48652837 -0.56604934 -0.46010408 -0.32861057]\n",
      "0.826942\n",
      "[ 0.04309028  0.2212525  -0.71164477  0.66130418 -0.07368239]\n",
      "0.370609\n",
      "[-0.10008702 -0.79745758  0.19837654  0.51227647  0.2286122 ]\n",
      "0.228333\n",
      "[-0.20004645  0.04738816  0.35582745  0.28355584 -0.86644024]\n",
      "0.0197107\n",
      "[-0.90824533  0.27595881  0.08475541  0.09027689  0.28914317]\n"
     ]
    }
   ],
   "source": [
    "# w_np,v_np = np.linalg.eigh( np.dot(X_data.T,X_data) )\n",
    "print X_data\n",
    "w_np,v_np = np.linalg.eigh(np.dot(X_data.T,X_data))\n",
    "idx = np.argsort(-w_np)\n",
    "w_np = w_np[idx]\n",
    "v_np = v_np[:,idx]\n",
    "for i in range(DIMENSIONS):\n",
    "    print w_np[i]\n",
    "    print v_np[:,i]"
   ]
  },
  {
   "cell_type": "code",
   "execution_count": null,
   "metadata": {
    "collapsed": false
   },
   "outputs": [],
   "source": []
  }
 ],
 "metadata": {
  "kernelspec": {
   "display_name": "Python 2",
   "language": "python",
   "name": "python2"
  },
  "language_info": {
   "codemirror_mode": {
    "name": "ipython",
    "version": 2
   },
   "file_extension": ".py",
   "mimetype": "text/x-python",
   "name": "python",
   "nbconvert_exporter": "python",
   "pygments_lexer": "ipython2",
   "version": "2.7.12"
  }
 },
 "nbformat": 4,
 "nbformat_minor": 0
}

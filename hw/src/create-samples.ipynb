{
 "cells": [
  {
   "cell_type": "code",
   "execution_count": 5,
   "metadata": {
    "collapsed": true
   },
   "outputs": [],
   "source": [
    "import scipy"
   ]
  },
  {
   "cell_type": "code",
   "execution_count": 51,
   "metadata": {
    "collapsed": false
   },
   "outputs": [],
   "source": [
    "def createSampleSets(mat_path, decreasing_sizes, sample_path):\n",
    "    print 'reading from:', mat_path\n",
    "    test_set = scipy.io.loadmat(mat_path)\n",
    "    sampleSize = test_set['y'].shape[0]\n",
    "    print 'size of matrix:', sampleSize\n",
    "    for sampleSize in decreasing_sizes:\n",
    "        test_set['X'] = test_set['X'][:,:,:,slice(sampleSize)]\n",
    "        test_set['y'] = test_set['y'][slice(sampleSize),:]\n",
    "        sampleSize = test_set['y'].shape[0]\n",
    "        samplePath1 = sample_path.format(sampleSize)\n",
    "        print 'saving to:', samplePath1\n",
    "        scipy.io.savemat(samplePath1, test_set)\n"
   ]
  },
  {
   "cell_type": "code",
   "execution_count": 52,
   "metadata": {
    "collapsed": false
   },
   "outputs": [
    {
     "name": "stdout",
     "output_type": "stream",
     "text": [
      "reading from: ../data/test_32x32.mat\n",
      "size of matrix: 26032\n",
      "saving to: ../data/test_32x32_26032.mat\n",
      "saving to: ../data/test_32x32_01000.mat\n",
      "saving to: ../data/test_32x32_00500.mat\n",
      "saving to: ../data/test_32x32_00100.mat\n",
      "saving to: ../data/test_32x32_00010.mat\n"
     ]
    }
   ],
   "source": [
    "createSampleSets(mat_path = '../data/test_32x32.mat',\n",
    "                 decreasing_sizes = reversed((10, 100, 500, 1000, None)),\n",
    "                 sample_path = '../data/test_32x32_{:05d}.mat')"
   ]
  },
  {
   "cell_type": "code",
   "execution_count": 53,
   "metadata": {
    "collapsed": false
   },
   "outputs": [
    {
     "name": "stdout",
     "output_type": "stream",
     "text": [
      "reading from: ../data/train_32x32.mat\n",
      "size of matrix: 73257\n",
      "saving to: ../data/train_32x32_73257.mat\n",
      "saving to: ../data/train_32x32_10000.mat\n",
      "saving to: ../data/train_32x32_05000.mat\n",
      "saving to: ../data/train_32x32_01000.mat\n",
      "saving to: ../data/train_32x32_00500.mat\n",
      "saving to: ../data/train_32x32_00100.mat\n",
      "saving to: ../data/train_32x32_00010.mat\n"
     ]
    }
   ],
   "source": [
    "createSampleSets(mat_path = '../data/train_32x32.mat',\n",
    "                 decreasing_sizes = reversed((10, 100, 500, 1000, 5000, 10000, None)),\n",
    "                 sample_path = '../data/train_32x32_{:05d}.mat')"
   ]
  },
  {
   "cell_type": "code",
   "execution_count": 54,
   "metadata": {
    "collapsed": false
   },
   "outputs": [
    {
     "name": "stdout",
     "output_type": "stream",
     "text": [
      "reading from: ../data/extra_32x32.mat\n",
      "size of matrix: 531131\n",
      "saving to: ../data/extra_32x32_531131.mat\n",
      "saving to: ../data/extra_32x32_10000.mat\n",
      "saving to: ../data/extra_32x32_05000.mat\n",
      "saving to: ../data/extra_32x32_01000.mat\n",
      "saving to: ../data/extra_32x32_00500.mat\n",
      "saving to: ../data/extra_32x32_00100.mat\n",
      "saving to: ../data/extra_32x32_00010.mat\n"
     ]
    }
   ],
   "source": [
    "createSampleSets(mat_path = '../data/extra_32x32.mat',\n",
    "                 decreasing_sizes = reversed((10, 100, 500, 1000, 5000, 10000, None)),\n",
    "                 sample_path = '../data/extra_32x32_{:05d}.mat')"
   ]
  },
  {
   "cell_type": "code",
   "execution_count": null,
   "metadata": {
    "collapsed": false
   },
   "outputs": [],
   "source": []
  }
 ],
 "metadata": {
  "kernelspec": {
   "display_name": "Python 2",
   "language": "python",
   "name": "python2"
  },
  "language_info": {
   "codemirror_mode": {
    "name": "ipython",
    "version": 2
   },
   "file_extension": ".py",
   "mimetype": "text/x-python",
   "name": "python",
   "nbconvert_exporter": "python",
   "pygments_lexer": "ipython2",
   "version": "2.7.12"
  }
 },
 "nbformat": 4,
 "nbformat_minor": 0
}

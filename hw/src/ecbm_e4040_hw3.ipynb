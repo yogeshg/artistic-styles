{
 "cells": [
  {
   "cell_type": "markdown",
   "metadata": {},
   "source": [
    "# ECBM E6040 Homework 3 - Programming Problem"
   ]
  },
  {
   "cell_type": "markdown",
   "metadata": {},
   "source": [
    " * All the functions have been implemented as suggested\n",
    " * The runs were not done using notebook, but on a server using python\n",
    " * the stdin and stdout of the runs was redirected to txt files which have been committed in `src/*.txt`\n",
    " * images generated have been placed in `src/imgs/*.png` folder\n",
    " * relevant excrepts have been copied to this notebook for discussion\n",
    " * I encourage you to look at the txt and png files to appreciate the work :)"
   ]
  },
  {
   "cell_type": "markdown",
   "metadata": {},
   "source": [
    "### Problem 1: Implement the convolutional neural network depicted in this problem"
   ]
  },
  {
   "cell_type": "code",
   "execution_count": 116,
   "metadata": {
    "collapsed": false
   },
   "outputs": [],
   "source": [
    "from hw3 import test_lenet"
   ]
  },
  {
   "cell_type": "code",
   "execution_count": 96,
   "metadata": {
    "collapsed": false
   },
   "outputs": [
    {
     "name": "stdout",
     "output_type": "stream",
     "text": [
      "if __name__ == '__main__': \r\n",
      "\r\n",
      "    test_lenet_inject_noise_input(batch_size=256, n_epochs=500, noise='uniform')\r\n",
      "    test_lenet_inject_noise_input(batch_size=256, n_epochs=500, noise='normal')\r\n",
      "\r\n",
      "    # test_lenet_rotation(batch_size=256, n_epochs=500)\r\n",
      "    # test_lenet_translation(batch_size=256, n_epochs=500)\r\n",
      "    # test_lenet(batch_size=256, n_epochs=500)\r\n",
      "    # test_lenet_flip(batch_size=256, n_epochs=500)\r\n"
     ]
    }
   ],
   "source": [
    "# test_lenet(batch_size=25, n_epochs=5)\n",
    "!grep -A8 \"__main__\" hw3.py"
   ]
  },
  {
   "cell_type": "markdown",
   "metadata": {},
   "source": [
    "The uncommented part is calling the classifier with noise\n",
    "and the commented part with affine transforms"
   ]
  },
  {
   "cell_type": "code",
   "execution_count": 25,
   "metadata": {
    "collapsed": false
   },
   "outputs": [
    {
     "name": "stdout",
     "output_type": "stream",
     "text": [
      "following is a sample for the run with noise functions\n",
      "test_lenet: {'nhidden': [4096, 512], 'noise': 'uniform', 'learning_rate': 0.1, 'flipping': False, 'batch_size': 256, 'n_epochs': 500, 'translation': False, 'rotation': False, 'nkerns': [32, 64]}\n",
      "Best validation error of 31.870994 % obtained at iteration 5304, with test performance 32.011218 %\n",
      "The training process for function test_lenet ran for 24.41m\n",
      "test_lenet: {'nhidden': [4096, 512], 'noise': 'normal', 'learning_rate': 0.1, 'flipping': False, 'batch_size': 256, 'n_epochs': 500, 'translation': False, 'rotation': False, 'nkerns': [32, 64]}\n",
      "Best validation error of 31.590545 % obtained at iteration 8424, with test performance 31.520433 %\n",
      "The training process for function test_lenet ran for 24.49m\n"
     ]
    }
   ],
   "source": [
    "!echo following is a sample for the run with noise functions\n",
    "!egrep \"test_lenet|Best\" run-allimgs-5thpart-augment-noise.txt"
   ]
  },
  {
   "cell_type": "code",
   "execution_count": 33,
   "metadata": {
    "collapsed": false
   },
   "outputs": [
    {
     "name": "stdout",
     "output_type": "stream",
     "text": [
      "following is the results for the run with affine functions\n",
      "test_lenet: {'nhidden': [4096, 512], 'learning_rate': 0.1, 'flipping': False, 'batch_size': 256, 'n_epochs': 500, 'translation': False, 'rotation': True, 'nkerns': [32, 64]}\n",
      "epoch 26, minibatch 312/312, validatThe training process for function test_lenet ran for 24.69m\n",
      "Best validation error of 31.039663 % obtained at iteration 9984, with test performance 32.031250 %\n",
      "test_lenet: {'nhidden': [4096, 512], 'learning_rate': 0.1, 'flipping': False, 'batch_size': 256, 'n_epochs': 500, 'translation': True, 'rotation': False, 'nkerns': [32, 64]}\n",
      "     epoch 18, minibatch The training process for function test_lenet ran for 24.69m\n",
      "Best validation error of 28.796074 % obtained at iteration 9048, with test performance 29.356971 %\n",
      "test_lenet: {'nhidden': [4096, 512], 'learning_rate': 0.1, 'flipping': False, 'batch_size': 256, 'n_epochs': 500, 'translation': False, 'rotation': False, 'nkerns': [32, 64]}\n",
      "The training process for function test_lenet ran for 26.63m\n",
      "Best validation error of 31.530449 % obtained at iteration 8736, with test performance 31.420272 %\n",
      "test_lenet: {'nhidden': [4096, 512], 'learning_rate': 0.1, 'flipping': True, 'batch_size': 256, 'n_epochs': 500, 'translation': False, 'rotation': False, 'nkerns': [32, 64]}\n",
      "epoch 13, minibatch 312/312, validation errorThe training process for function test_lenet ran for 24.73m\n",
      "Best validation error of 27.984776 % obtained at iteration 9048, with test performance 28.725962 %\n"
     ]
    }
   ],
   "source": [
    "!echo following is the results for the run with affine functions\n",
    "!egrep \"test_lenet|Best\" run-allimgs-4parts-augment-low2.txt"
   ]
  },
  {
   "cell_type": "markdown",
   "metadata": {},
   "source": [
    "#### Results\n",
    "Following is a summary of the results for part 2, bullets 1,2,34\n",
    "```\n",
    "augmentation | iterations | test error  | accuracy\n",
    "     --           8736      31.420272 %     68.58%\n",
    "2.5p translation  9048      29.356971 %     70.65%\n",
    "2.5deg rotation   9984      32.031250 %     67.97%\n",
    "  flip            9048      28.725962 %     71.28%\n",
    "  uniform (0,.01) 5304      32.011218 %     67.99%\n",
    " gaussian (0,.01) 8424      31.520433 %     68.48%\n",
    "```\n",
    " * Baseline accuracy is 68.58%\n",
    " * the classifier performs better with **translate or flip** our data (70%, 71%)\n",
    " * translation accuracy was achieved after adjusting translation to be between -2.5 to 2.5 pixels\n",
    " * **roation** was earlier at 5 degrees, and the results were much worse (upto 10% accuracy)\n",
    " * 2.5 degrees is still perhaps too much, I am confident that this will be better if we reduce to about 1 degree\n",
    " * Addition of noise caused the accuracy to drop marginally\n",
    " * **Uniform** method adds a uniform [0,.01] noise to the vector which is between [0.00,1.00]\n",
    " * **Gaussian** method adds a normal noise with mean=0 and variance=.01 to the vector which is between [0.00,1.00]\n",
    " * We also normalized the vector after adding noise because the noisy vector could lie outside [0,1]\n",
    " * adding a lower error could potentially increase the accuracy"
   ]
  },
  {
   "cell_type": "markdown",
   "metadata": {},
   "source": [
    "<table>\n",
    "<tr>\n",
    "<td> <img src='./imgs/imgs-translate-orig.png'>     original\n",
    "<td> <img src='./imgs/imgs-flip-aug.png'>         flip\n",
    "</tr>\n",
    "<tr>\n",
    "<td> <img src='./imgs/imgs-rotate-aug.png'>       rotate\n",
    "<td> <img src='./imgs/imgs-translate-aug.png'>    translate\n",
    "</tr>\n",
    "<tr>\n",
    "<td> <img src='./imgs/imgs-normalNoise-aug.png'>  normalNoise\n",
    "<td> <img src='./imgs/imgs-uniformNoise-aug.png'>  uniformNoise\n",
    "</tr>\n",
    "</table>"
   ]
  },
  {
   "cell_type": "markdown",
   "metadata": {},
   "source": [
    "### Problem 2: Bullet 1: Augmentation by translation"
   ]
  },
  {
   "cell_type": "markdown",
   "metadata": {},
   "source": [
    "Show a 4*4 figure of 16 input images with this augmentation"
   ]
  },
  {
   "cell_type": "code",
   "execution_count": 4,
   "metadata": {
    "collapsed": true
   },
   "outputs": [],
   "source": [
    "from hw3_utils import load_data\n",
    "from hw3 import translate_image"
   ]
  },
  {
   "cell_type": "markdown",
   "metadata": {},
   "source": [
    "Implement the neural network with this augmentation, show the improvement"
   ]
  },
  {
   "cell_type": "code",
   "execution_count": 11,
   "metadata": {
    "collapsed": true
   },
   "outputs": [],
   "source": [
    "from hw3 import test_lenet_translation"
   ]
  },
  {
   "cell_type": "markdown",
   "metadata": {
    "collapsed": false
   },
   "source": [
    "as shown above"
   ]
  },
  {
   "cell_type": "markdown",
   "metadata": {},
   "source": [
    "### Problem 2: Bullet 2: Augmentation by rotation"
   ]
  },
  {
   "cell_type": "markdown",
   "metadata": {},
   "source": [
    "Show a 4*4 figure of 16 input images with this augmentation"
   ]
  },
  {
   "cell_type": "code",
   "execution_count": 13,
   "metadata": {
    "collapsed": true
   },
   "outputs": [],
   "source": [
    "from hw3_utils import load_data\n",
    "from hw3 import rotate_image"
   ]
  },
  {
   "cell_type": "markdown",
   "metadata": {},
   "source": [
    "Implement the neural network with this augmentation, show the improvement"
   ]
  },
  {
   "cell_type": "code",
   "execution_count": 15,
   "metadata": {
    "collapsed": true
   },
   "outputs": [],
   "source": [
    "from hw3 import test_lenet_rotation"
   ]
  },
  {
   "cell_type": "markdown",
   "metadata": {
    "collapsed": false
   },
   "source": [
    "as shown above"
   ]
  },
  {
   "cell_type": "markdown",
   "metadata": {},
   "source": [
    "### Problem 2: Bullet 3: Augmentation by flipping"
   ]
  },
  {
   "cell_type": "markdown",
   "metadata": {},
   "source": [
    "Show a 4*4 figure of 16 input images with this augmentation"
   ]
  },
  {
   "cell_type": "code",
   "execution_count": 17,
   "metadata": {
    "collapsed": true
   },
   "outputs": [],
   "source": [
    "from hw3_utils import load_data\n",
    "from hw3 import flip_image"
   ]
  },
  {
   "cell_type": "markdown",
   "metadata": {},
   "source": [
    "Implement the neural network with this augmentation, show the improvement"
   ]
  },
  {
   "cell_type": "markdown",
   "metadata": {
    "collapsed": false,
    "scrolled": true
   },
   "source": [
    "as shown above"
   ]
  },
  {
   "cell_type": "markdown",
   "metadata": {},
   "source": [
    "### Problem 2: Bullet 4: Augmentation by injecting noise into input"
   ]
  },
  {
   "cell_type": "markdown",
   "metadata": {},
   "source": [
    "Show a 4*4 figure of 16 input images with this augmentation"
   ]
  },
  {
   "cell_type": "code",
   "execution_count": 39,
   "metadata": {
    "collapsed": false,
    "scrolled": true
   },
   "outputs": [],
   "source": [
    "from hw3_utils import load_data\n",
    "from hw3 import noise_injection"
   ]
  },
  {
   "cell_type": "markdown",
   "metadata": {},
   "source": [
    "Implement the neural network with this augmentation, show the improvement"
   ]
  },
  {
   "cell_type": "code",
   "execution_count": null,
   "metadata": {
    "collapsed": false
   },
   "outputs": [],
   "source": [
    "from hw3 import test_lenet_inject_noise_input"
   ]
  },
  {
   "cell_type": "markdown",
   "metadata": {
    "collapsed": false
   },
   "source": [
    "as shown above"
   ]
  },
  {
   "cell_type": "markdown",
   "metadata": {},
   "source": [
    "### Problem 3: Implement your own achritecture to achieve at least 80% testing accuracy on CIFAR-10 test set"
   ]
  },
  {
   "cell_type": "code",
   "execution_count": 80,
   "metadata": {
    "collapsed": false
   },
   "outputs": [],
   "source": [
    "from hw3_part3 import MyLeNet"
   ]
  },
  {
   "cell_type": "code",
   "execution_count": 83,
   "metadata": {
    "collapsed": false
   },
   "outputs": [
    {
     "name": "stdout",
     "output_type": "stream",
     "text": [
      "if __name__ == '__main__': \r\n",
      "\r\n",
      "    test_lenet(batch_size=512, n_epochs=1000, flipping=True, translation=True)\r\n",
      "    test_lenet(batch_size=512, n_epochs=1000, flipping=True)\r\n",
      "\r\n"
     ]
    }
   ],
   "source": [
    "!grep -A4 \"__main__\" hw3-part3.py"
   ]
  },
  {
   "cell_type": "code",
   "execution_count": 99,
   "metadata": {
    "collapsed": false
   },
   "outputs": [
    {
     "name": "stdout",
     "output_type": "stream",
     "text": [
      "test_lenet: {'nhidden': [4096, 512], 'noise': None, 'learning_rate': 0.1, 'flipping': True, 'batch_size': 512, 'n_epochs': 1000, 'translation': True, 'rotation': False, 'nkerns': [32, 64]}\r\n",
      "Best validation error of 23.468339 % obtained at iteration 9984, with test performance 24.547697 %\r\n",
      "The training process for function test_lenet ran for 120.25m\r\n",
      "test_lenet: {'nhidden': [4096, 512], 'noise': None, 'learning_rate': 0.1, 'flipping': True, 'batch_size': 512, 'n_epochs': 1000, 'translation': False, 'rotation': False, 'nkerns': [32, 64]}\r\n",
      "Best validation error of 27.014803 % obtained at iteration 9516, with test performance 27.631579 %\r\n",
      "The training process for function test_lenet ran for 123.17m\r\n"
     ]
    }
   ],
   "source": [
    "!egrep \"test_lenet|Best\" run-allimgs-part2.txt"
   ]
  },
  {
   "cell_type": "code",
   "execution_count": 101,
   "metadata": {
    "collapsed": false
   },
   "outputs": [
    {
     "name": "stdout",
     "output_type": "stream",
     "text": [
      "test_lenet: {'nhidden': [4096, 512], 'noise': None, 'learning_rate': 0.1, 'flipping': True, 'batch_size': 512, 'n_epochs': 1000, 'translation': True, 'rotation': False, 'nkerns': [32, 64]}\r\n",
      "Best validation error of 18.503289 % obtained at iteration 9360, with test performance 19.377056 %\r\n",
      "The training process for function test_lenet ran for 176.25m\r\n",
      "test_lenet: {'nhidden': [4096, 512], 'noise': None, 'learning_rate': 0.1, 'flipping': True, 'batch_size': 512, 'n_epochs': 1000, 'translation': False, 'rotation': False, 'nkerns': [32, 64]}\r\n",
      "Best validation error of 20.785362 % obtained at iteration 9828, with test performance 21.916118 %\r\n",
      "The training process for function test_lenet ran for 180.49m\r\n"
     ]
    }
   ],
   "source": [
    "!egrep \"test_lenet|Best\" run-allimgs-prob3-moreconv.txt"
   ]
  },
  {
   "cell_type": "code",
   "execution_count": 103,
   "metadata": {
    "collapsed": false
   },
   "outputs": [
    {
     "name": "stdout",
     "output_type": "stream",
     "text": [
      "test_lenet: {'nhidden': [4096, 512], 'noise': None, 'learning_rate': 0.1, 'flipping': True, 'batch_size': 512, 'n_epochs': 1000, 'translation': True, 'rotation': False, 'nkerns': [32, 64]}\r\n",
      "Best validation error of 18.791118 % obtained at iteration 9672, with test performance 19.078947 %\r\n",
      "The training process for function test_lenet ran for 180.78m\r\n",
      "test_lenet: {'nhidden': [4096, 512], 'noise': None, 'learning_rate': 0.1, 'flipping': True, 'batch_size': 512, 'n_epochs': 1000, 'translation': False, 'rotation': False, 'nkerns': [32, 64]}\r\n",
      "Best validation error of 21.823602 % obtained at iteration 8580, with test performance 23.458059 %\r\n",
      "The training process for function test_lenet ran for 184.16m\r\n"
     ]
    }
   ],
   "source": [
    "!egrep \"test_lenet|Best\" run-allimgs-prob3-anotherhidden.txt"
   ]
  },
  {
   "cell_type": "markdown",
   "metadata": {},
   "source": [
    "I ran the following configurations and the results are listed\n",
    "```\n",
    "\n",
    "softmax6  (output)\n",
    "hidden6                  (introduced in 3rd configuration)\n",
    "hidden5\n",
    "hidden4\n",
    "hidden3\n",
    "conv31 -> conv32         (introduced in 2nd configuration)\n",
    "conv21 -> conv22\n",
    "conv11 -> conv12\n",
    "x (input)\n",
    "\n",
    " 7 layers : 4 Conv + 3 Hidden : 75.53%\n",
    " 9 layers : 6 Conv + 3 Hidden : 80.62%\n",
    "10 layers : 6 Conv + 4 Hidden : 80.92%\n",
    "```\n",
    "* the cells above list the output of the runs specified as above\n",
    "* the first run in each case is with **flipping and translation** data augmentation, and second with just flipping\n",
    "* the results were always better in flippinf and translation\n",
    "* I achieved best accuracy of **80.92%** "
   ]
  },
  {
   "cell_type": "markdown",
   "metadata": {},
   "source": [
    "### Problem 4: Implement the convolutional neural network depicted in this problem"
   ]
  },
  {
   "cell_type": "code",
   "execution_count": 43,
   "metadata": {
    "collapsed": false
   },
   "outputs": [],
   "source": [
    "from hw3_part4 import MyLeNet"
   ]
  },
  {
   "cell_type": "code",
   "execution_count": 114,
   "metadata": {
    "collapsed": false
   },
   "outputs": [
    {
     "name": "stdout",
     "output_type": "stream",
     "text": [
      "if __name__ == '__main__': \r\n",
      "\r\n",
      "    test_lenet(batch_size=512, n_epochs=128 )\r\n",
      "\r\n"
     ]
    }
   ],
   "source": [
    "!grep -A8 \"__main__\" hw3_part4.py"
   ]
  },
  {
   "cell_type": "markdown",
   "metadata": {},
   "source": [
    " * Following are\n",
    "  - original, a sample corrupted image\n",
    "  - image reconstructed in 14th and 53rd epochs\n",
    "  - 77th epoch\n",
    " * following that is a summary of the run that generated these images\n",
    " * I plotted the images every 10th time the classifier got a better validation score than before\n",
    " * in this run, I got 38 such instances, barely missing the 40th! :(\n",
    " * to summarise, the reconstruction gets better with time\n",
    " * extreme white surfaces get reconstructed the last\n",
    " * only 3 images of the sample have strong white regions not corrected very well and 2 images have still artefacts\n",
    " * I am confident that with epoch 125, the reconstruction would have been much better\n",
    " * the error drops from 53 to 77 epoch by 5 bps and from 77 to 125 by 5 bps (bps = 100th of a 1%)\n",
    " * the best test error is **0.130199 %**\n",
    "    ```\n",
    "    epoch 14, minibatch 78/78, test error of best model 0.579022 %\n",
    "    epoch 53, minibatch 78/78, test error of best model 0.225842 %\n",
    "    epoch 77, minibatch 78/78, test error of best model 0.178036 %\n",
    "    epoch 125, minibatch 78/78, test error of best model 0.130199 %    \n",
    "    ```\n"
   ]
  },
  {
   "cell_type": "markdown",
   "metadata": {
    "collapsed": true
   },
   "source": [
    "<table>\n",
    "<tr>\n",
    "<td> <img src='./imgs/imgs-original-190.png'> original image\n",
    "<td> <img src='./imgs/imgs-corrupted-190.png'> corrupted image\n",
    "</tr>\n",
    "<tr>\n",
    "<td> <img src='./imgs/imgs-reconstructed-190.png'> reconstructed in 14th epoch\n",
    "<td> <img src='./imgs/imgs-reconstructed-380.png'> reconstructed in 53rd epoch\n",
    "</tr>\n",
    "<tr>\n",
    "<td> <img src='./imgs/imgs-reconstructed-570.png'> reconstructed in 77th epoch\n",
    "</tr>\n",
    "</table>"
   ]
  },
  {
   "cell_type": "code",
   "execution_count": 105,
   "metadata": {
    "collapsed": false,
    "scrolled": true
   },
   "outputs": [],
   "source": [
    "# !cat run-allimgs-imagecorrection-restore.txt"
   ]
  },
  {
   "cell_type": "code",
   "execution_count": 109,
   "metadata": {
    "collapsed": false
   },
   "outputs": [
    {
     "name": "stdout",
     "output_type": "stream",
     "text": [
      "     epoch 1, minibatch 78/78, test error of best model 1.667325 %\r\n",
      "     epoch 2, minibatch 78/78, test error of best model 1.265784 %\r\n",
      "     epoch 3, minibatch 78/78, test error of best model 1.090662 %\r\n",
      "     epoch 4, minibatch 78/78, test error of best model 1.041891 %\r\n",
      "     epoch 6, minibatch 78/78, test error of best model 0.960887 %\r\n",
      "     epoch 7, minibatch 78/78, test error of best model 0.934642 %\r\n",
      "     epoch 9, minibatch 78/78, test error of best model 0.773572 %\r\n",
      "     epoch 10, minibatch 78/78, test error of best model 0.761473 %\r\n",
      "     epoch 12, minibatch 78/78, test error of best model 0.658490 %\r\n",
      "     epoch 14, minibatch 78/78, test error of best model 0.579022 %\r\n",
      "     epoch 15, minibatch 78/78, test error of best model 0.570977 %\r\n",
      "     epoch 18, minibatch 78/78, test error of best model 0.473040 %\r\n",
      "     epoch 25, minibatch 78/78, test error of best model 0.437321 %\r\n",
      "     epoch 29, minibatch 78/78, test error of best model 0.421770 %\r\n",
      "     epoch 31, minibatch 78/78, test error of best model 0.418521 %\r\n",
      "     epoch 32, minibatch 78/78, test error of best model 0.318503 %\r\n",
      "     epoch 41, minibatch 78/78, test error of best model 0.290608 %\r\n",
      "     epoch 42, minibatch 78/78, test error of best model 0.245531 %\r\n",
      "     epoch 46, minibatch 78/78, test error of best model 0.243286 %\r\n",
      "     epoch 53, minibatch 78/78, test error of best model 0.225842 %\r\n",
      "     epoch 54, minibatch 78/78, test error of best model 0.219716 %\r\n",
      "     epoch 56, minibatch 78/78, test error of best model 0.208828 %\r\n",
      "     epoch 57, minibatch 78/78, test error of best model 0.201184 %\r\n",
      "     epoch 59, minibatch 78/78, test error of best model 0.194714 %\r\n",
      "     epoch 61, minibatch 78/78, test error of best model 0.190333 %\r\n",
      "     epoch 62, minibatch 78/78, test error of best model 0.186404 %\r\n",
      "     epoch 71, minibatch 78/78, test error of best model 0.186354 %\r\n",
      "     epoch 73, minibatch 78/78, test error of best model 0.183798 %\r\n",
      "     epoch 76, minibatch 78/78, test error of best model 0.179281 %\r\n",
      "     epoch 77, minibatch 78/78, test error of best model 0.178036 %\r\n",
      "     epoch 78, minibatch 78/78, test error of best model 0.169572 %\r\n",
      "     epoch 79, minibatch 78/78, test error of best model 0.163056 %\r\n",
      "     epoch 89, minibatch 78/78, test error of best model 0.153441 %\r\n",
      "     epoch 90, minibatch 78/78, test error of best model 0.150213 %\r\n",
      "     epoch 96, minibatch 78/78, test error of best model 0.146867 %\r\n",
      "     epoch 97, minibatch 78/78, test error of best model 0.135319 %\r\n",
      "     epoch 119, minibatch 78/78, test error of best model 0.132680 %\r\n",
      "     epoch 125, minibatch 78/78, test error of best model 0.130199 %\r\n",
      "Best validation error of 0.129720 % obtained at iteration 9750, with test performance 0.130199 %\r\n",
      "The training process for function test_lenet ran for 759.72m\r\n"
     ]
    }
   ],
   "source": [
    "!egrep \"test_lenet|Best\" -i run-allimgs-recons-rms.txt"
   ]
  },
  {
   "cell_type": "code",
   "execution_count": null,
   "metadata": {
    "collapsed": true
   },
   "outputs": [],
   "source": []
  },
  {
   "cell_type": "code",
   "execution_count": 108,
   "metadata": {
    "collapsed": true
   },
   "outputs": [],
   "source": [
    "### Example for using function load_data and printing dataset "
   ]
  },
  {
   "cell_type": "code",
   "execution_count": 47,
   "metadata": {
    "collapsed": false
   },
   "outputs": [],
   "source": [
    "# from hw3_utils import load_data\n",
    "# #downsample the training and validation dataset if needed, ds_rate should be larger than 1.\n",
    "# ds_rate=None\n",
    "# datasets = load_data(ds_rate=ds_rate,theano_shared=False)\n",
    "# train_set_x, train_set_y = datasets[0]\n",
    "# valid_set_x, valid_set_y = datasets[1]\n",
    "# test_set_x, test_set_y = datasets[2]\n",
    "# print('Current training data size is %i'%train_set_x.shape[0])\n",
    "# print('Current validation data size is %i'%valid_set_x.shape[0])\n",
    "# print('Current test data size is %i'%test_set_x.shape[0])"
   ]
  },
  {
   "cell_type": "code",
   "execution_count": 46,
   "metadata": {
    "collapsed": false
   },
   "outputs": [],
   "source": [
    "# import numpy as np\n",
    "# import matplotlib.pyplot as plt\n",
    "# %matplotlib inline\n",
    "# class_=['airplane','automobile','bird','cat','deer','dog','frog','horse','ship','truck']\n",
    "# #Choose an image index\n",
    "# i=15\n",
    "# plt.imshow(np.reshape(valid_set_x[i],(3,32,32)).transpose(1,2,0))\n",
    "# plt.xticks([])\n",
    "# plt.yticks([])\n",
    "# plt.title('Original picture')\n",
    "# plt.xlabel('%s'%class_[valid_set_y[i]])"
   ]
  }
 ],
 "metadata": {
  "kernelspec": {
   "display_name": "Python 2",
   "language": "python",
   "name": "python2"
  },
  "language_info": {
   "codemirror_mode": {
    "name": "ipython",
    "version": 2
   },
   "file_extension": ".py",
   "mimetype": "text/x-python",
   "name": "python",
   "nbconvert_exporter": "python",
   "pygments_lexer": "ipython2",
   "version": "2.7.12"
  }
 },
 "nbformat": 4,
 "nbformat_minor": 0
}

{
 "cells": [
  {
   "cell_type": "code",
   "execution_count": 2,
   "metadata": {
    "collapsed": false
   },
   "outputs": [],
   "source": [
    "import apply_style"
   ]
  },
  {
   "cell_type": "code",
   "execution_count": null,
   "metadata": {
    "collapsed": true
   },
   "outputs": [],
   "source": [
    "apply_style.train_style(0, 1, 'test_images/tubingen_small.jpg', 'test_images/starry_night_google.jpg',\n",
    "                            blank_image_path=None,\n",
    "                            style_layers = ['conv1_1','conv2_1','conv3_1','conv4_1','conv5_1'],\n",
    "                            content_layers = ['conv4_2'], n_epochs=10,learning_rate=10,resize=False,\n",
    "                            optimizer='l-bfgs',lbfgs_maxfun=20)"
   ]
  }
 ],
 "metadata": {
  "anaconda-cloud": {},
  "kernelspec": {
   "display_name": "Python [Root]",
   "language": "python",
   "name": "Python [Root]"
  },
  "language_info": {
   "codemirror_mode": {
    "name": "ipython",
    "version": 2
   },
   "file_extension": ".py",
   "mimetype": "text/x-python",
   "name": "python",
   "nbconvert_exporter": "python",
   "pygments_lexer": "ipython2",
   "version": "2.7.12"
  }
 },
 "nbformat": 4,
 "nbformat_minor": 0
}

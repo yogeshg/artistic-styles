{
 "cells": [
  {
   "cell_type": "code",
   "execution_count": 1,
   "metadata": {
    "collapsed": false,
    "deletable": true,
    "editable": true
   },
   "outputs": [
    {
     "name": "stderr",
     "output_type": "stream",
     "text": [
      "/usr/local/lib/python2.7/site-packages/matplotlib/__init__.py:1318: UserWarning:  This call to matplotlib.use() has no effect\n",
      "because the backend has already been chosen;\n",
      "matplotlib.use() must be called *before* pylab, matplotlib.pyplot,\n",
      "or matplotlib.backends is imported for the first time.\n",
      "\n",
      "  warnings.warn(_use_error_msg)\n"
     ]
    },
    {
     "data": {
      "text/plain": [
       "<module 'apply_style' from 'apply_style.pyc'>"
      ]
     },
     "execution_count": 1,
     "metadata": {},
     "output_type": "execute_result"
    }
   ],
   "source": [
    "import apply_style\n",
    "reload(apply_style)"
   ]
  },
  {
   "cell_type": "code",
   "execution_count": 2,
   "metadata": {
    "collapsed": false,
    "deletable": true,
    "editable": true,
    "scrolled": true
   },
   "outputs": [
    {
     "name": "stderr",
     "output_type": "stream",
     "text": [
      "2017-03-11 05:19:33,733 apply_style.pyc INFO   loading imagenet parameters...\n",
      "2017-03-11 05:19:33,734 NeuralNets.ImportParameters INFO   ... loading params\n",
      "2017-03-11 05:19:36,296 apply_style.pyc INFO   loading images...\n",
      "2017-03-11 05:19:36,473 apply_style.pyc INFO   creating style Neural Network...\n",
      "2017-03-11 05:19:36,736 apply_style.pyc INFO   calculating style activations...\n",
      "2017-03-11 05:20:40,353 apply_style.pyc INFO   creating content Neural Network...\n",
      "2017-03-11 05:20:40,565 apply_style.pyc INFO   calculating content activations...\n",
      "2017-03-11 05:21:12,766 apply_style.pyc INFO   generating image...\n",
      "2017-03-11 05:21:12,767 archiver INFO   cleaning directory: /Users/richardgodden/Columbia_Work/fall_16/E4040_NN/artistic-styles/src/data/current\n",
      "2017-03-11 05:21:12,768 archiver INFO   creating directory: /Users/richardgodden/Columbia_Work/fall_16/E4040_NN/artistic-styles/src/data/current\n"
     ]
    },
    {
     "name": "stdout",
     "output_type": "stream",
     "text": [
      "loss = 2.348e+11\n",
      "/Users/richardgodden/Columbia_Work/fall_16/E4040_NN/artistic-styles/src/data/current/gen_0000.jpg   saved\n",
      "loss = 1.442e+11\n",
      "/Users/richardgodden/Columbia_Work/fall_16/E4040_NN/artistic-styles/src/data/current/gen_0001.jpg   saved\n",
      "loss = 1.259e+11\n",
      "/Users/richardgodden/Columbia_Work/fall_16/E4040_NN/artistic-styles/src/data/current/gen_0002.jpg   saved\n",
      "loss = 1.198e+11\n",
      "/Users/richardgodden/Columbia_Work/fall_16/E4040_NN/artistic-styles/src/data/current/gen_0003.jpg   saved\n",
      "loss = 1.166e+11\n",
      "/Users/richardgodden/Columbia_Work/fall_16/E4040_NN/artistic-styles/src/data/current/gen_0004.jpg   saved\n",
      "loss = 1.147e+11\n",
      "/Users/richardgodden/Columbia_Work/fall_16/E4040_NN/artistic-styles/src/data/current/gen_0005.jpg   saved\n",
      "loss = 1.133e+11\n",
      "/Users/richardgodden/Columbia_Work/fall_16/E4040_NN/artistic-styles/src/data/current/gen_0006.jpg   saved\n",
      "loss = 1.123e+11\n",
      "/Users/richardgodden/Columbia_Work/fall_16/E4040_NN/artistic-styles/src/data/current/gen_0007.jpg   saved\n",
      "loss = 1.115e+11\n",
      "/Users/richardgodden/Columbia_Work/fall_16/E4040_NN/artistic-styles/src/data/current/gen_0008.jpg   saved\n",
      "loss = 1.109e+11\n",
      "/Users/richardgodden/Columbia_Work/fall_16/E4040_NN/artistic-styles/src/data/current/gen_0009.jpg   saved\n",
      "loss = 1.103e+11\n",
      "/Users/richardgodden/Columbia_Work/fall_16/E4040_NN/artistic-styles/src/data/current/gen_0010.jpg   saved\n",
      "loss = 1.099e+11\n",
      "/Users/richardgodden/Columbia_Work/fall_16/E4040_NN/artistic-styles/src/data/current/gen_0011.jpg   saved\n",
      "loss = 1.095e+11\n",
      "/Users/richardgodden/Columbia_Work/fall_16/E4040_NN/artistic-styles/src/data/current/gen_0012.jpg   saved\n",
      "loss = 1.092e+11\n",
      "/Users/richardgodden/Columbia_Work/fall_16/E4040_NN/artistic-styles/src/data/current/gen_0013.jpg   saved\n",
      "loss = 1.089e+11\n",
      "/Users/richardgodden/Columbia_Work/fall_16/E4040_NN/artistic-styles/src/data/current/gen_0014.jpg   saved\n",
      "loss = 1.087e+11\n",
      "/Users/richardgodden/Columbia_Work/fall_16/E4040_NN/artistic-styles/src/data/current/gen_0015.jpg   saved\n",
      "loss = 1.084e+11\n",
      "/Users/richardgodden/Columbia_Work/fall_16/E4040_NN/artistic-styles/src/data/current/gen_0016.jpg   saved\n",
      "loss = 1.082e+11\n",
      "/Users/richardgodden/Columbia_Work/fall_16/E4040_NN/artistic-styles/src/data/current/gen_0017.jpg   saved\n",
      "loss = 1.081e+11\n",
      "/Users/richardgodden/Columbia_Work/fall_16/E4040_NN/artistic-styles/src/data/current/gen_0018.jpg   saved\n"
     ]
    },
    {
     "name": "stderr",
     "output_type": "stream",
     "text": [
      "2017-03-11 09:08:41,183 archiver INFO   archiving directory: ('/Users/richardgodden/Columbia_Work/fall_16/E4040_NN/artistic-styles/src/data', 'current')\n",
      "2017-03-11 09:08:41,215 archiver INFO   archived directory: /Users/richardgodden/Columbia_Work/fall_16/E4040_NN/artistic-styles/src/data/archive/20170311_090841.tar\n"
     ]
    },
    {
     "name": "stdout",
     "output_type": "stream",
     "text": [
      "loss = 1.079e+11\n",
      "/Users/richardgodden/Columbia_Work/fall_16/E4040_NN/artistic-styles/src/data/current/gen_0019.jpg   saved\n"
     ]
    },
    {
     "data": {
      "text/plain": [
       "array(107894487498.83577)"
      ]
     },
     "execution_count": 2,
     "metadata": {},
     "output_type": "execute_result"
    }
   ],
   "source": [
    "apply_style.train_style(0.2, 5e-6, 'test_images/tubingen.jpg', 'test_images/starry_night_google.jpg', \n",
    "                            'test_images/starry_night_google.jpg', blank_image_path=None,\n",
    "                            style_layers = ['conv1_1','conv2_1','conv3_1','conv4_1','conv5_1'],\n",
    "                            content_layers = ['conv4_2'], n_epochs=20,learning_rate=10,resize=False,resize_shape=(250,250),\n",
    "                            optimizer='l-bfgs',lbfgs_maxfun=40,pool2d_mode='max',vgg_train=False,style_scale=2)"
   ]
  },
  {
   "cell_type": "code",
   "execution_count": null,
   "metadata": {
    "collapsed": true,
    "deletable": true,
    "editable": true
   },
   "outputs": [],
   "source": []
  }
 ],
 "metadata": {
  "anaconda-cloud": {},
  "kernelspec": {
   "display_name": "Python 2",
   "language": "python",
   "name": "python2"
  },
  "language_info": {
   "codemirror_mode": {
    "name": "ipython",
    "version": 2
   },
   "file_extension": ".py",
   "mimetype": "text/x-python",
   "name": "python",
   "nbconvert_exporter": "python",
   "pygments_lexer": "ipython2",
   "version": "2.7.13"
  }
 },
 "nbformat": 4,
 "nbformat_minor": 0
}
